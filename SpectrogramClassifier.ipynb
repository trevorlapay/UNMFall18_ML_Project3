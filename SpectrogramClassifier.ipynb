{
 "cells": [
  {
   "cell_type": "markdown",
   "metadata": {},
   "source": [
    "# Spectrogram Classifier"
   ]
  },
  {
   "cell_type": "markdown",
   "metadata": {},
   "source": [
    "## Imports"
   ]
  },
  {
   "cell_type": "code",
   "execution_count": 2,
   "metadata": {},
   "outputs": [],
   "source": [
    "import tensorflow.python.keras\n",
    "import numpy as np\n",
    "from tensorflow.keras.layers import Conv2D, MaxPooling2D\n",
    "from tensorflow.keras.layers import Activation, Dropout, Flatten, Dense\n",
    "from tensorflow.python.keras.models import Sequential\n",
    "import h5py\n",
    "import data_parser\n",
    "import sys\n",
    "import os\n",
    "from pathlib import Path\n",
    "import subprocess\n",
    "import queue\n",
    "import threading\n",
    "import time\n",
    "import _thread\n",
    "import librosa.core\n",
    "import matplotlib\n",
    "import matplotlib.pyplot as plt\n",
    "import itertools\n",
    "import imageio\n",
    "import numpy as np\n",
    "from tensorflow.keras.preprocessing.image import ImageDataGenerator, array_to_img, img_to_array, load_img\n",
    "from tensorflow.keras.datasets import cifar10\n",
    "from tensorflow.keras.utils import to_categorical\n",
    "from IPython.display import Image, display\n",
    "from tensorflow.keras.callbacks import EarlyStopping"
   ]
  },
  {
   "cell_type": "markdown",
   "metadata": {},
   "source": [
    "## Constants and Utilities"
   ]
  },
  {
   "cell_type": "code",
   "execution_count": 3,
   "metadata": {},
   "outputs": [],
   "source": [
    "genres = ['blues', 'classical', 'country', 'disco', 'hiphop', 'jazz', 'metal', 'pop', 'reggae', 'rock']\n",
    "\n",
    "IMAGE_HIGHT = data_parser.IMAGE_HIGHT\n",
    "IMAGE_WIDTH = data_parser.IMAGE_WIDTH\n",
    "IMAGE_CHANNELS = data_parser.IMAGE_CHANNELS\n",
    "IMAGE_SLICES = data_parser.IMAGE_SLICES\n",
    "\n",
    "def nowStr(): return time.strftime(\"%Y-%m-%d_%H-%M-%S\")"
   ]
  },
  {
   "cell_type": "code",
   "execution_count": 4,
   "metadata": {},
   "outputs": [],
   "source": [
    "# Loss Curves\n",
    "def plot_loss_curve(history):\n",
    "    plt.figure(figsize=[8,6])\n",
    "    plt.plot(history.history['loss'],'r',linewidth=3.0)\n",
    "    plt.plot(history.history['val_loss'],'b',linewidth=3.0)\n",
    "    plt.legend(['Training loss', 'Validation Loss'],fontsize=18)\n",
    "    plt.xlabel('Epochs ',fontsize=16)\n",
    "    plt.ylabel('Loss',fontsize=16)\n",
    "    plt.title('Loss Curves',fontsize=16)\n",
    "    plt.show()\n",
    "\n",
    "# Accuracy Curves\n",
    "def plot_acc_curve(history):\n",
    "    plt.figure(figsize=[8,6])\n",
    "    plt.plot(history.history['acc'],'r',linewidth=3.0)\n",
    "    plt.plot(history.history['val_acc'],'b',linewidth=3.0)\n",
    "    plt.legend(['Training Accuracy', 'Validation Accuracy'],fontsize=18)\n",
    "    plt.xlabel('Epochs ',fontsize=16)\n",
    "    plt.ylabel('Accuracy',fontsize=16)\n",
    "    plt.title('Accuracy Curves',fontsize=16)\n",
    "    plt.show()"
   ]
  },
  {
   "cell_type": "markdown",
   "metadata": {},
   "source": [
    "## Collect the Data"
   ]
  },
  {
   "cell_type": "markdown",
   "metadata": {},
   "source": [
    "## Binary Model per Genre"
   ]
  },
  {
   "cell_type": "code",
   "execution_count": null,
   "metadata": {},
   "outputs": [],
   "source": [
    "training_data, training_data_labels = data_parser.load_png_training_data()\n",
    "training_data_labels_onehot = to_categorical(training_data_labels)\n",
    "\n",
    "for i in range(0,9000,450):\n",
    "    print(genres[training_data_labels[i,0]])\n",
    "    display(array_to_img(training_data[i]))"
   ]
  },
  {
   "cell_type": "markdown",
   "metadata": {},
   "source": [
    "### Build Model"
   ]
  },
  {
   "cell_type": "code",
   "execution_count": null,
   "metadata": {},
   "outputs": [],
   "source": [
    "genre_models = []\n",
    "for genre in genres:\n",
    "    model = Sequential()\n",
    "    model.add(Conv2D(filters=32, \n",
    "                     kernel_size=(2,6),\n",
    "                     strides=(1,3),\n",
    "                     input_shape=(IMAGE_HIGHT,\n",
    "                                  IMAGE_WIDTH,\n",
    "                                  IMAGE_CHANNELS),\n",
    "                     data_format=\"channels_last\"))\n",
    "    model.add(Activation('relu'))\n",
    "    model.add(MaxPooling2D(pool_size=(2,2)))\n",
    "\n",
    "    model.add(Conv2D(32,4,1))\n",
    "    model.add(Activation('relu'))\n",
    "    model.add(MaxPooling2D(pool_size=(1,2)))\n",
    "\n",
    "    model.add(Conv2D(64,1,1))\n",
    "    model.add(Activation('relu'))\n",
    "    model.add(MaxPooling2D(pool_size=(2,2)))\n",
    "\n",
    "    model.add(Conv2D(128,3,3))\n",
    "    model.add(Activation('relu'))\n",
    "    model.add(MaxPooling2D(pool_size=(2,1)))\n",
    "\n",
    "    model.add(Flatten())\n",
    "    model.add(Dense(64))\n",
    "    model.add(Activation('relu'))\n",
    "    model.add(Dropout(0.5))\n",
    "    model.add(Dense(1))\n",
    "    model.add(Activation('sigmoid'))\n",
    "\n",
    "    #TODO: Change `loss='binary_crossentropy'` to something better for 10 class problems.\n",
    "    model.compile(loss='binary_crossentropy',\n",
    "                  optimizer='rmsprop',\n",
    "                  metrics=['accuracy'])\n",
    "    genre_models.append(model)"
   ]
  },
  {
   "cell_type": "markdown",
   "metadata": {},
   "source": [
    "### Train Model"
   ]
  },
  {
   "cell_type": "code",
   "execution_count": null,
   "metadata": {
    "scrolled": false
   },
   "outputs": [],
   "source": [
    "for i, history in enumerate(genre_histories):\n",
    "    print(genres[i])\n",
    "    plot_loss_curve(history)\n",
    "    plot_acc_curve(history)"
   ]
  },
  {
   "cell_type": "code",
   "execution_count": null,
   "metadata": {},
   "outputs": [],
   "source": [
    "for i, model in enumerate(genre_models):\n",
    "    model.save_weights(nowStr() + '_Spectrogram_Classifier_Weights_genre{}.h5'.format(i))"
   ]
  },
  {
   "cell_type": "markdown",
   "metadata": {},
   "source": [
    "### Test Model"
   ]
  },
  {
   "cell_type": "code",
   "execution_count": null,
   "metadata": {
    "scrolled": false
   },
   "outputs": [],
   "source": [
    "# new\n",
    "genre_histories = []\n",
    "for i, model in enumerate(genre_models):\n",
    "    print(\"Training \"+genres[i]+\" model.\")\n",
    "    history = model.fit(x=training_data,\n",
    "                        y=training_data_labels_onehot[:,i],\n",
    "                        epochs=10,\n",
    "                        batch_size=100,\n",
    "                        verbose=1,\n",
    "                        validation_split=0.50,\n",
    "                        shuffle=True,\n",
    "                        class_weight = {0: 1., 1: 9.},\n",
    "                        callbacks=[EarlyStopping(monitor='val_loss',\n",
    "                                   min_delta=0,\n",
    "                                   patience=2,\n",
    "                                   verbose=0, mode='auto')])\n",
    "    genre_histories.append(history)\n",
    "    plot_loss_curve(history)\n",
    "    plot_acc_curve(history)\n",
    "    print(model.evaluate(training_data, training_data_labels_onehot[:,i]))"
   ]
  },
  {
   "cell_type": "code",
   "execution_count": null,
   "metadata": {},
   "outputs": [],
   "source": [
    "def classify(instance, by_ordering=False):\n",
    "    best = (0, 0)\n",
    "    if by_ordering:\n",
    "        temp = [(i, model.predict(instance)[0,0]) for i, model in enumerate(genre_models)]\n",
    "        list.sort(temp, key=lambda x: x[1], reverse=True)\n",
    "        return temp\n",
    "    for i, model in enumerate(genre_models):\n",
    "        temp = model.predict(instance)[0,0]\n",
    "        if best[1] < temp:\n",
    "            best = (i, temp)\n",
    "    return best[0]\n",
    "\n",
    "def ranked_choice_election(instances):\n",
    "    ballots = [classify(instances[i:i+1], by_ordering=True) for i in range(10)]\n",
    "    winner = None\n",
    "    counts = {genre: 0 for genre in range(10)}\n",
    "    numCounting = 1\n",
    "    while winner is None:\n",
    "        counts = {k: 0 for k in counts.keys()}\n",
    "        for ballot in ballots:\n",
    "#             print('ballot')\n",
    "            numCounted = 0\n",
    "            for genre, conf in ballot:\n",
    "#                 print(\"{} with {}\".format(genre, conf))\n",
    "                if genre in counts.keys():\n",
    "                    counts[genre] += 1\n",
    "                    numCounted += 1\n",
    "                    if numCounted >= numCounting:\n",
    "                        break\n",
    "        for k, v in list(counts.items()):\n",
    "            if v == 0:\n",
    "                del counts[k]\n",
    "        if max(counts.values()) >= 8:\n",
    "            winner = max(counts.items(), key=lambda x: x[1])\n",
    "        else:\n",
    "            loser = min(counts.items(), key=lambda x: x[1])\n",
    "#             print(\"Dropping {}\".format(loser))\n",
    "            del counts[loser[0]]\n",
    "    return winner\n",
    "            \n",
    "        "
   ]
  },
  {
   "cell_type": "code",
   "execution_count": null,
   "metadata": {
    "scrolled": false
   },
   "outputs": [],
   "source": [
    "correct = 0\n",
    "incorrect = 0\n",
    "\n",
    "for i in range(0,9000,10):\n",
    "    winner = ranked_choice_election(training_data[i:i+10])\n",
    "#     print(\"{} -> {} with {} votes\".format(training_data_labels[i,0], winner[0], winner[1]))\n",
    "    if winner[0] == training_data_labels[i,0]:\n",
    "        correct += 1\n",
    "    else:\n",
    "        incorrect += 1\n",
    "print(\"Accuracy: {}\".format(correct/(correct+incorrect)))"
   ]
  },
  {
   "cell_type": "markdown",
   "metadata": {},
   "source": [
    "## Model Based on Trevor's Model"
   ]
  },
  {
   "cell_type": "markdown",
   "metadata": {},
   "source": [
    "### Build Model"
   ]
  },
  {
   "cell_type": "code",
   "execution_count": null,
   "metadata": {},
   "outputs": [],
   "source": [
    "model = Sequential()\n",
    "model.add(Flatten(input_shape=(IMAGE_HIGHT,\n",
    "                               IMAGE_WIDTH,\n",
    "                               IMAGE_CHANNELS),\n",
    "                  data_format=\"channels_last\"))\n",
    "model.add(Dense(128, activation=tensorflow.nn.relu))\n",
    "model.add(Dropout(0.30))\n",
    "model.add(Dense(128, activation='relu'))\n",
    "model.add(Dense(10, activation='softmax'))\n",
    "model.compile(optimizer=\"nadam\", loss=\"categorical_crossentropy\", metrics=['accuracy'])"
   ]
  },
  {
   "cell_type": "markdown",
   "metadata": {},
   "source": [
    "### Train Model"
   ]
  },
  {
   "cell_type": "code",
   "execution_count": null,
   "metadata": {},
   "outputs": [],
   "source": [
    "history = model.fit(x=training_data,\n",
    "                    y=training_data_labels_onehot,\n",
    "                    epochs=30,\n",
    "                    batch_size=100,\n",
    "                    verbose=1,\n",
    "                    validation_split=0.15,\n",
    "                    shuffle=True)\n",
    "plot_loss_curve(history)\n",
    "plot_acc_curve(history)"
   ]
  },
  {
   "cell_type": "markdown",
   "metadata": {},
   "source": [
    "### Test Model"
   ]
  },
  {
   "cell_type": "code",
   "execution_count": null,
   "metadata": {},
   "outputs": [],
   "source": [
    "model.evaluate(training_data, training_data_labels_onehot)"
   ]
  },
  {
   "cell_type": "markdown",
   "metadata": {},
   "source": [
    "## Big Model"
   ]
  },
  {
   "cell_type": "markdown",
   "metadata": {},
   "source": [
    "### Build Model"
   ]
  },
  {
   "cell_type": "code",
   "execution_count": null,
   "metadata": {},
   "outputs": [],
   "source": [
    "model = Sequential()\n",
    "model.add(Conv2D(filters=8, \n",
    "                 kernel_size=2,\n",
    "                 strides=1,\n",
    "                 input_shape=(IMAGE_HIGHT,\n",
    "                              IMAGE_WIDTH,\n",
    "                              IMAGE_CHANNELS),\n",
    "                 data_format=\"channels_last\"))\n",
    "model.add(Activation('relu'))\n",
    "model.add(MaxPooling2D(pool_size=2))\n",
    "\n",
    "model.add(Conv2D(16,2,1))\n",
    "model.add(Activation('relu'))\n",
    "model.add(MaxPooling2D(pool_size=2))\n",
    "\n",
    "model.add(Conv2D(32,2,1))\n",
    "model.add(Activation('relu'))\n",
    "model.add(MaxPooling2D(pool_size=2))\n",
    "\n",
    "model.add(Conv2D(64,2,1))\n",
    "model.add(Activation('relu'))\n",
    "model.add(MaxPooling2D(pool_size=2))\n",
    "\n",
    "model.add(Flatten())\n",
    "model.add(Dense(1024))\n",
    "model.add(Activation('relu'))\n",
    "model.add(Dropout(0.5))\n",
    "model.add(Dense(10, activation='softmax'))\n",
    "\n",
    "#TODO: Change `loss='binary_crossentropy'` to something better for 10 class problems.\n",
    "model.compile(loss='categorical_crossentropy',\n",
    "              optimizer='nadam',\n",
    "              metrics=['accuracy'])\n",
    "genre_models.append(model)"
   ]
  },
  {
   "cell_type": "markdown",
   "metadata": {},
   "source": [
    "### Train Model"
   ]
  },
  {
   "cell_type": "code",
   "execution_count": null,
   "metadata": {},
   "outputs": [],
   "source": [
    "history = model.fit(x=training_data,\n",
    "                    y=training_data_labels_onehot,\n",
    "                    epochs=30,\n",
    "                    batch_size=100,\n",
    "                    verbose=1,\n",
    "                    validation_split=0.15,\n",
    "                    shuffle=True)\n",
    "plot_loss_curve(history)\n",
    "plot_acc_curve(history)"
   ]
  },
  {
   "cell_type": "markdown",
   "metadata": {},
   "source": [
    "### Test Model"
   ]
  },
  {
   "cell_type": "code",
   "execution_count": null,
   "metadata": {},
   "outputs": [],
   "source": [
    "model.evaluate(training_data, training_data_labels_onehot)"
   ]
  }
 ],
 "metadata": {
  "kernelspec": {
   "display_name": "Python 3",
   "language": "python",
   "name": "python3"
  },
  "language_info": {
   "codemirror_mode": {
    "name": "ipython",
    "version": 3
   },
   "file_extension": ".py",
   "mimetype": "text/x-python",
   "name": "python",
   "nbconvert_exporter": "python",
   "pygments_lexer": "ipython3",
   "version": "3.6.7"
  }
 },
 "nbformat": 4,
 "nbformat_minor": 2
}
